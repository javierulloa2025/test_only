{
  "nbformat": 4,
  "nbformat_minor": 0,
  "metadata": {
    "colab": {
      "provenance": [],
      "authorship_tag": "ABX9TyOvC6ehMYOpMIYqOBYUB7OZ",
      "include_colab_link": true
    },
    "kernelspec": {
      "name": "python3",
      "display_name": "Python 3"
    },
    "language_info": {
      "name": "python"
    }
  },
  "cells": [
    {
      "cell_type": "markdown",
      "metadata": {
        "id": "view-in-github",
        "colab_type": "text"
      },
      "source": [
        "<a href=\"https://colab.research.google.com/github/javierulloa2025/test_only/blob/main/Untitled2.ipynb\" target=\"_parent\"><img src=\"https://colab.research.google.com/assets/colab-badge.svg\" alt=\"Open In Colab\"/></a>"
      ]
    },
    {
      "cell_type": "code",
      "execution_count": 4,
      "metadata": {
        "colab": {
          "base_uri": "https://localhost:8080/"
        },
        "id": "UWHZs8gtZaXF",
        "outputId": "78a59a68-b88e-4bc5-82b2-5988dc4cc4ef"
      },
      "outputs": [
        {
          "output_type": "stream",
          "name": "stdout",
          "text": [
            "1\n",
            "0\n",
            "<class 'str'>\n"
          ]
        }
      ],
      "source": [
        "miembro = True\n",
        "print(int(miembro))\n",
        "\n",
        "no_miembro = False\n",
        "print(int(no_miembro))\n",
        "miembro_str = (str(miembro))\n",
        "print(type(miembro_str))"
      ]
    }
  ]
}